{
  "nbformat": 4,
  "nbformat_minor": 0,
  "metadata": {
    "colab": {
      "provenance": [],
      "toc_visible": true,
      "gpuType": "T4",
      "authorship_tag": "ABX9TyNpo/46kZHzmIc3khDRXcAf",
      "include_colab_link": true
    },
    "kernelspec": {
      "name": "python3",
      "display_name": "Python 3"
    },
    "language_info": {
      "name": "python"
    },
    "accelerator": "GPU"
  },
  "cells": [
    {
      "cell_type": "markdown",
      "metadata": {
        "id": "view-in-github",
        "colab_type": "text"
      },
      "source": [
        "<a href=\"https://colab.research.google.com/github/Surya-Uday-Singh/CNN_From_Scratch-MNIST-/blob/main/MnistCNN.ipynb\" target=\"_parent\"><img src=\"https://colab.research.google.com/assets/colab-badge.svg\" alt=\"Open In Colab\"/></a>"
      ]
    },
    {
      "cell_type": "code",
      "execution_count": 1,
      "metadata": {
        "id": "EVVxa94Qowwg"
      },
      "outputs": [],
      "source": [
        "import numpy as np\n",
        "from tensorflow.keras.datasets import mnist"
      ]
    },
    {
      "cell_type": "code",
      "source": [
        "class Conv:\n",
        "  #This defines a convolutional layer with 3x3 filters\n",
        "\n",
        "  def __init__(self, num_of_filters):\n",
        "    self.num_of_filters = num_of_filters\n",
        "\n",
        "    #This creates a defined 3x3 filter matrice with random numbers\n",
        "    self.filters = np.random.randn(num_of_filters, 3, 3)/9\n",
        "\n",
        "  def filter_regions(self, img):\n",
        "\n",
        "    h, w = img.shape\n",
        "\n",
        "    for i in range(h - 2):\n",
        "      for j in range(w - 2):\n",
        "        img_region = img[i:(i + 3), j:(j + 3)]\n",
        "        yield img_region, i, j\n",
        "\n",
        "  def forward_propagate(self, input):\n",
        "\n",
        "    h, w = input.shape\n",
        "    output = np.zeros((h - 2, w - 2, self.num_of_filters))\n",
        "\n",
        "    for img_region, i, j in self.filter_regions(input):\n",
        "      output[i, j] = np.sum(img_region * self.filters, axis=(1,2))\n",
        "\n",
        "    return output"
      ],
      "metadata": {
        "id": "z4pz9t4CE7a0"
      },
      "execution_count": 2,
      "outputs": []
    },
    {
      "cell_type": "code",
      "source": [
        "(train_images, train_labels), (test_images, test_labels) = mnist.load_data()\n",
        "\n",
        "conv = Conv(8)\n",
        "print(train_images[0].shape)\n",
        "output = conv.forward_propagate(train_images[0])\n",
        "print(output.shape)"
      ],
      "metadata": {
        "colab": {
          "base_uri": "https://localhost:8080/"
        },
        "id": "QGoYwNxlNJd0",
        "outputId": "c05c8555-e7e1-4df6-bd63-c7544312a0dd"
      },
      "execution_count": null,
      "outputs": [
        {
          "output_type": "stream",
          "name": "stdout",
          "text": [
            "Downloading data from https://storage.googleapis.com/tensorflow/tf-keras-datasets/mnist.npz\n",
            "\u001b[1m11490434/11490434\u001b[0m \u001b[32m━━━━━━━━━━━━━━━━━━━━\u001b[0m\u001b[37m\u001b[0m \u001b[1m2s\u001b[0m 0us/step\n",
            "(28, 28)\n",
            "(26, 26, 8)\n"
          ]
        }
      ]
    },
    {
      "cell_type": "code",
      "source": [
        "class MaxPool:\n",
        "  def filter_regions(self, img):\n",
        "\n",
        "    h, w, _ = img.shape\n",
        "    new_h = h // 2\n",
        "    new_w = w // 2\n",
        "\n",
        "    for i in range(new_h):\n",
        "      for j in range(new_w):\n",
        "        img_region2x2 = img[(i * 2):(i * 2 + 2), (j * 2):(j * 2 + 2)]\n",
        "        yield img_region2x2, i, j\n",
        "\n",
        "\n",
        "  def forward_propagate(self, input):\n",
        "\n",
        "    h, w, num_of_filters = input.shape\n",
        "    output = np.zeros((h//2, w//2, num_of_filters))\n",
        "\n",
        "    for img_region2x2, i, j in self.filter_regions(input):\n",
        "      output[i, j] = np.amax(img_region2x2, axis=(0, 1))\n",
        "\n",
        "    return output\n"
      ],
      "metadata": {
        "id": "SL5jkfE8ykpR"
      },
      "execution_count": 3,
      "outputs": []
    },
    {
      "cell_type": "code",
      "source": [
        "class Softmax:\n",
        "\n",
        "  def __init__(self, input_len, nodes):\n",
        "    self.weights = np.random.randn(input_len, nodes)/ input_len\n",
        "    self.biases = np.zeros(nodes)\n",
        "\n",
        "  def activation(self, input):\n",
        "\n",
        "    self.last_input_shape = input.shape\n",
        "    input = input.flatten()\n",
        "    self.last_input = input\n",
        "\n",
        "\n",
        "    input_len, nodes = self.weights.shape\n",
        "\n",
        "    forward_propagate = np.dot(input, self.weights) + self.biases\n",
        "    self.last_forward = forward_propagate\n",
        "    exp = np.exp(forward_propagate)\n",
        "    return exp/ np.sum(exp, axis = 0)\n",
        "\n",
        "\n",
        "  def backprop(self, d_l_d_a, alpha):\n",
        "\n",
        "    for i, grad in enumerate(d_l_d_a):\n",
        "      if grad == 0:\n",
        "        continue\n",
        "\n",
        "      # e^z\n",
        "      z_exp = np.exp(self.last_forward)\n",
        "\n",
        "      # Sum of all e^totals\n",
        "      S = np.sum(z_exp)\n",
        "\n",
        "      # Gradients of out[i] against totals(totals is WX + b or self.last_forward)\n",
        "      d_a_d_z = -z_exp[i] * z_exp / (S ** 2)\n",
        "      # i == correct class, that index has a diff backprop, we change that index value only\n",
        "      d_a_d_z[i] = z_exp[i] * (S - z_exp[i])/ (S ** 2)\n",
        "\n",
        "      # Gradients of z against weights/biases/input\n",
        "      d_z_d_w = self.last_input\n",
        "      d_z_d_b = 1\n",
        "      d_z_d_input = self.weights\n",
        "\n",
        "      #\n",
        "      d_l_d_z = grad * d_a_d_z\n",
        "\n",
        "      #gradients of loss wrt weights, biases, inputs\n",
        "      d_l_d_w =  d_z_d_w[np.newaxis].T @ d_l_d_z[np.newaxis]\n",
        "      d_l_d_b = d_l_d_z * d_z_d_b\n",
        "      d_l_d_input = d_z_d_input @ d_l_d_z\n",
        "\n",
        "      #update weights\n",
        "      self.weights -= alpha * d_l_d_w\n",
        "      self.biases  -= alpha * d_l_d_b\n",
        "\n",
        "      return d_l_d_input.reshape(self.last_input_shape)"
      ],
      "metadata": {
        "id": "T0DwamtwEpL0"
      },
      "execution_count": 6,
      "outputs": []
    },
    {
      "cell_type": "code",
      "source": [
        "(train_images, train_labels), (test_images, test_labels) = mnist.load_data()\n",
        "\n",
        "train_images_min = train_images[:2000]\n",
        "train_labels_min = train_labels[:2000]\n",
        "\n",
        "\n",
        "\n",
        "conv = Conv(9)\n",
        "pool = MaxPool()\n",
        "softmax = Softmax(13 * 13 * 9, 10)\n",
        "\n",
        "def forward_propagation(image, label):\n",
        "\n",
        "  res = conv.forward_propagate((image/255) - 0.5)\n",
        "  res = pool.forward_propagate(res)\n",
        "  res = softmax.activation(res)\n",
        "\n",
        "  cost_funct = -np.log(res[label])\n",
        "  if np.argmax(res) == label:\n",
        "    acc = 1\n",
        "  else:\n",
        "    acc = 0\n",
        "\n",
        "  return res, cost_funct, acc\n",
        "\n",
        "def train (img, label, alpha = 0.005):\n",
        "\n",
        "  res, cost_func, acc = forward_propagation(img, label)\n",
        "\n",
        "  grad = np.zeros(10)\n",
        "  grad[label] = -1/ res[label]\n",
        "\n",
        "  grad = softmax.backprop(grad, alpha)\n",
        "\n",
        "  return cost_func, acc\n",
        "\n",
        "cost = 0\n",
        "num_of_correct_labels = 0\n",
        "\n",
        "for i, (img, label) in enumerate(zip(train_images_min, train_labels_min)):\n",
        "  loss, accuracy = train(img,label)\n",
        "\n",
        "  cost+= loss\n",
        "  num_of_correct_labels+= accuracy\n",
        "\n",
        "  if i % 100 == 99:\n",
        "    print(\n",
        "      'Iteration %d: Average Loss %.6f | Accuracy: %d%%' %\n",
        "      (i + 1, loss / (i+1), (num_of_correct_labels/(i + 1)) * 100)\n",
        "    )\n",
        "\n",
        "\n",
        "\n",
        "\n"
      ],
      "metadata": {
        "colab": {
          "base_uri": "https://localhost:8080/"
        },
        "id": "2GE8_UnC60Ix",
        "outputId": "408a867c-3147-4826-d962-bcc33c71f771"
      },
      "execution_count": 7,
      "outputs": [
        {
          "output_type": "stream",
          "name": "stdout",
          "text": [
            "Iteration 100: Average Loss 0.018660 | Accuracy: 23%\n",
            "Iteration 200: Average Loss 0.009227 | Accuracy: 32%\n",
            "Iteration 300: Average Loss 0.005496 | Accuracy: 40%\n",
            "Iteration 400: Average Loss 0.003614 | Accuracy: 47%\n",
            "Iteration 500: Average Loss 0.003633 | Accuracy: 51%\n",
            "Iteration 600: Average Loss 0.002642 | Accuracy: 53%\n",
            "Iteration 700: Average Loss 0.003069 | Accuracy: 55%\n",
            "Iteration 800: Average Loss 0.002003 | Accuracy: 57%\n",
            "Iteration 900: Average Loss 0.002763 | Accuracy: 59%\n",
            "Iteration 1000: Average Loss 0.001243 | Accuracy: 61%\n",
            "Iteration 1100: Average Loss 0.001063 | Accuracy: 62%\n",
            "Iteration 1200: Average Loss 0.000745 | Accuracy: 63%\n",
            "Iteration 1300: Average Loss 0.001069 | Accuracy: 64%\n",
            "Iteration 1400: Average Loss 0.000526 | Accuracy: 65%\n",
            "Iteration 1500: Average Loss 0.000474 | Accuracy: 65%\n",
            "Iteration 1600: Average Loss 0.000441 | Accuracy: 67%\n",
            "Iteration 1700: Average Loss 0.000173 | Accuracy: 68%\n",
            "Iteration 1800: Average Loss 0.000468 | Accuracy: 69%\n",
            "Iteration 1900: Average Loss 0.000405 | Accuracy: 69%\n",
            "Iteration 2000: Average Loss 0.000082 | Accuracy: 70%\n"
          ]
        }
      ]
    }
  ]
}