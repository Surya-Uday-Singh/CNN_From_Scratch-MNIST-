{
  "nbformat": 4,
  "nbformat_minor": 0,
  "metadata": {
    "colab": {
      "provenance": [],
      "authorship_tag": "ABX9TyNDTwd5XjNbQo/PfrTqy3JI",
      "include_colab_link": true
    },
    "kernelspec": {
      "name": "python3",
      "display_name": "Python 3"
    },
    "language_info": {
      "name": "python"
    }
  },
  "cells": [
    {
      "cell_type": "markdown",
      "metadata": {
        "id": "view-in-github",
        "colab_type": "text"
      },
      "source": [
        "<a href=\"https://colab.research.google.com/github/Surya-Uday-Singh/CNN_From_Scratch-MNIST-/blob/main/MnistCNN.ipynb\" target=\"_parent\"><img src=\"https://colab.research.google.com/assets/colab-badge.svg\" alt=\"Open In Colab\"/></a>"
      ]
    },
    {
      "cell_type": "code",
      "execution_count": null,
      "metadata": {
        "id": "EVVxa94Qowwg"
      },
      "outputs": [],
      "source": [
        "import numpy as np"
      ]
    },
    {
      "cell_type": "code",
      "source": [
        "class Conv:\n",
        "  #This defines a convolutional layer with 3x3 filters\n",
        "\n",
        "  def __init__(self, num_of_filters):\n",
        "    self.num_of_filters = num_of_filters\n",
        "\n",
        "    #This creates a defined 3x3 filter matrice with random numbers\n",
        "    self.filters = np.random.randn(num_of_filters, 3, 3)/9\n",
        "\n",
        "  def filter_regions(self, img):\n",
        "\n",
        "    h, w = img.shape\n",
        "\n",
        "    for i in range(h - 2):\n",
        "      for j in range(w - 2):\n",
        "        img_region = img[i:(i + 3), j:(j + 3)]\n",
        "        yield img_region, i, j\n",
        "\n",
        "  def forward_propagate(self, input):\n",
        "\n",
        "    h, w = input.shape\n",
        "    output = np.zeros((h - 2, w - 2, self.num_of_filters))\n",
        "\n",
        "    for img_region, i, j in self.filter_regions(input):\n",
        "      output[i, j] = np.sum(img_region * self.filters, axis=(1,2))\n",
        "\n",
        "    return output\n",
        "\n",
        "\n"
      ],
      "metadata": {
        "id": "z4pz9t4CE7a0"
      },
      "execution_count": null,
      "outputs": []
    }
  ]
}